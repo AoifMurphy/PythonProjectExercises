{
  "nbformat": 4,
  "nbformat_minor": 0,
  "metadata": {
    "colab": {
      "provenance": [],
      "authorship_tag": "ABX9TyOIq30KlC8KQUrh1+ND+fMb",
      "include_colab_link": true
    },
    "kernelspec": {
      "name": "python3",
      "display_name": "Python 3"
    },
    "language_info": {
      "name": "python"
    }
  },
  "cells": [
    {
      "cell_type": "markdown",
      "metadata": {
        "id": "view-in-github",
        "colab_type": "text"
      },
      "source": [
        "<a href=\"https://colab.research.google.com/github/AoifMurphy/PythonProjectExercises/blob/master/ProjectTemplate.ipynb\" target=\"_parent\"><img src=\"https://colab.research.google.com/assets/colab-badge.svg\" alt=\"Open In Colab\"/></a>"
      ]
    },
    {
      "cell_type": "code",
      "execution_count": 1,
      "metadata": {
        "id": "FVMmiHvTJ4dl"
      },
      "outputs": [],
      "source": [
        "# Import the required libraries\n",
        "import numpy as np\n",
        "import pandas as pd\n",
        "import matplotlib.pyplot as plt\n",
        "import seaborn as sns\n",
        "import re"
      ]
    },
    {
      "cell_type": "code",
      "source": [
        "# Create my own Function with Reusbale Code\n",
        "def import_data(filename):\n",
        "    data=pd.read_csv(filename)\n",
        "    print(data.head())\n",
        "    print(data.index)\n",
        "    print(data.info)"
      ],
      "metadata": {
        "id": "OkyHN5CDKXZR"
      },
      "execution_count": 2,
      "outputs": []
    },
    {
      "cell_type": "code",
      "source": [
        "# Import the required CSV files\n"
      ],
      "metadata": {
        "id": "q77JeNcdKkCn"
      },
      "execution_count": 3,
      "outputs": []
    },
    {
      "cell_type": "code",
      "source": [
        "# Data Prep/Cleaning/Analysis"
      ],
      "metadata": {
        "id": "2r5VIC7GLHsq"
      },
      "execution_count": 4,
      "outputs": []
    },
    {
      "cell_type": "code",
      "source": [
        "# Used Regex to extract a pattern in data "
      ],
      "metadata": {
        "id": "9QoBLcj7Lx9x"
      },
      "execution_count": 5,
      "outputs": []
    },
    {
      "cell_type": "code",
      "source": [
        "# Replace missing values or drop duplicates "
      ],
      "metadata": {
        "id": "cYMqi1NiL5yQ"
      },
      "execution_count": 6,
      "outputs": []
    },
    {
      "cell_type": "code",
      "source": [
        "# Make use of iterators "
      ],
      "metadata": {
        "id": "eQwX-mYbMGIT"
      },
      "execution_count": 7,
      "outputs": []
    },
    {
      "cell_type": "code",
      "source": [
        "# Merge DataFrames "
      ],
      "metadata": {
        "id": "7bQltJ90MNSv"
      },
      "execution_count": 8,
      "outputs": []
    },
    {
      "cell_type": "code",
      "source": [
        "# NumPy "
      ],
      "metadata": {
        "id": "AHqQfKx4MZZH"
      },
      "execution_count": 9,
      "outputs": []
    },
    {
      "cell_type": "code",
      "source": [
        "# Dictionary or Lists "
      ],
      "metadata": {
        "id": "oLSKTpb7Mamz"
      },
      "execution_count": 10,
      "outputs": []
    },
    {
      "cell_type": "code",
      "source": [
        "# Machine Learning "
      ],
      "metadata": {
        "id": "EpQC24ZcN2j5"
      },
      "execution_count": 11,
      "outputs": []
    }
  ]
}